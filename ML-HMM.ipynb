{
 "cells": [
  {
   "cell_type": "code",
   "execution_count": 26,
   "id": "0f3676f3-1e27-4ec1-b810-e7144a737e76",
   "metadata": {},
   "outputs": [],
   "source": [
    "d = {'X':{'X':0.3,'Y':0.2,'Z':0},'Y':{'X':0,'Y':0.2,'Z':0.8},'Z':{'X':0,'Y':0,'Z':1}}\n",
    "\n",
    "m = {'X':{'A':0.6,'B':0.2,'C':0.2},'Y':{'A':0.1,'B':0.2,'C':0.3},'Z':{'A':0.3,'B':0.2,'C':0.3}}\n",
    "\n",
    "ini = {'X':1,'Y':0,'Z':0}\n",
    "\n",
    "l = ['X','Y','Z']\n",
    "\n",
    "m1 = ['A','B','C']"
   ]
  },
  {
   "cell_type": "code",
   "execution_count": 27,
   "id": "7591a9a0-be3e-483b-bf87-0fb88ef2e418",
   "metadata": {},
   "outputs": [],
   "source": [
    "#forward\n",
    "for i in range(len(m1)):\n",
    "    sum1=0\n",
    "    sum2=0\n",
    "    sum3=0\n",
    "    for j in l:\n",
    "        for k in l:\n",
    "            m2 = d[j][k]*m[j][m1[i]]*ini[j]\n",
    "            if k =='X':\n",
    "                sum1=sum1+m2\n",
    "            elif k=='Y':\n",
    "                sum2=sum2+m2\n",
    "            else:\n",
    "                sum3=sum3+m2\n",
    "ini['X'] = sum1\n",
    "ini['Y'] = sum2\n",
    "ini['Z'] = sum3"
   ]
  },
  {
   "cell_type": "code",
   "execution_count": 28,
   "id": "63701938-abe4-48e6-9ff9-44cee16ff8a9",
   "metadata": {},
   "outputs": [
    {
     "data": {
      "text/plain": [
       "0.06"
      ]
     },
     "execution_count": 28,
     "metadata": {},
     "output_type": "execute_result"
    }
   ],
   "source": [
    "ini['X']"
   ]
  },
  {
   "cell_type": "code",
   "execution_count": 29,
   "id": "a66b80e8-4ba3-49b5-8ed6-c5c9acff09f0",
   "metadata": {},
   "outputs": [
    {
     "data": {
      "text/plain": [
       "0.04000000000000001"
      ]
     },
     "execution_count": 29,
     "metadata": {},
     "output_type": "execute_result"
    }
   ],
   "source": [
    "ini['Y']"
   ]
  },
  {
   "cell_type": "code",
   "execution_count": 30,
   "id": "bc07a2a6-752e-448d-922a-ab03c0c6e9a7",
   "metadata": {},
   "outputs": [
    {
     "data": {
      "text/plain": [
       "0.0"
      ]
     },
     "execution_count": 30,
     "metadata": {},
     "output_type": "execute_result"
    }
   ],
   "source": [
    "ini['Z']"
   ]
  },
  {
   "cell_type": "code",
   "execution_count": 31,
   "id": "51bcac24-2dd8-4ff1-9904-86dafff83abf",
   "metadata": {},
   "outputs": [],
   "source": [
    "#backward\n",
    "ini = {'X':1,'Y':1,'Z':1}\n",
    "for i in range(len(m1)):\n",
    "    sum1=0\n",
    "    sum2=0\n",
    "    sum3=0\n",
    "    for j in l:\n",
    "        for k in l:\n",
    "            m2 = d[j][k]*m[j][m1[len(m1)-i-1]]*ini[k]\n",
    "            if k == 'X':\n",
    "                sum1=sum1+m2\n",
    "            elif k == 'Y':\n",
    "                sum2=sum2+m2\n",
    "            else:\n",
    "                sum3=sum3+m2\n",
    "ini['X']= sum1\n",
    "ini['Y'] = sum2\n",
    "ini['Z'] = sum3"
   ]
  },
  {
   "cell_type": "code",
   "execution_count": 32,
   "id": "e6b5e0bc-fa90-4e0d-ae21-c13c7d8eb426",
   "metadata": {},
   "outputs": [
    {
     "data": {
      "text/plain": [
       "0.18"
      ]
     },
     "execution_count": 32,
     "metadata": {},
     "output_type": "execute_result"
    }
   ],
   "source": [
    "ini['X']"
   ]
  },
  {
   "cell_type": "code",
   "execution_count": 33,
   "id": "6df037f3-16f5-47e6-87c3-a9c0972873db",
   "metadata": {},
   "outputs": [
    {
     "data": {
      "text/plain": [
       "0.14"
      ]
     },
     "execution_count": 33,
     "metadata": {},
     "output_type": "execute_result"
    }
   ],
   "source": [
    "ini['Y']"
   ]
  },
  {
   "cell_type": "code",
   "execution_count": 34,
   "id": "ed69081a-0ff5-41de-a432-536214f26429",
   "metadata": {},
   "outputs": [
    {
     "data": {
      "text/plain": [
       "0.38"
      ]
     },
     "execution_count": 34,
     "metadata": {},
     "output_type": "execute_result"
    }
   ],
   "source": [
    "ini['Z']"
   ]
  },
  {
   "cell_type": "code",
   "execution_count": 35,
   "id": "ebbb6312-156b-4fe3-b2c9-74b76b7ea05d",
   "metadata": {},
   "outputs": [],
   "source": [
    "#viterbi\n",
    "seq = []\n",
    "for i in range(len(m1)):\n",
    "    sum1=0\n",
    "    sum2=0\n",
    "    sum3=0\n",
    "    for j in l:\n",
    "        for k in l:\n",
    "            m2 = d[j][k]*m[j][m1[i]]*ini[j]\n",
    "            if k =='X':\n",
    "                sum1=max(sum1,m2)\n",
    "            elif k=='Y':\n",
    "                sum2=max(sum2,m2)\n",
    "            else:\n",
    "                sum3=max(sum3,m2)\n",
    "    ini['X'] = sum1\n",
    "    ini['Y'] = sum2\n",
    "    ini['Z'] = sum3\n",
    "\n",
    "    if(ini['X']>ini['Y']) & (ini['X']>ini['Z']):\n",
    "        seq.append('X')\n",
    "    elif(ini['Y']>ini['Z']) & (ini['Y']>ini['Z']):\n",
    "        seq.append('Y')\n",
    "    else:\n",
    "        seq.append('Z')"
   ]
  },
  {
   "cell_type": "code",
   "execution_count": 36,
   "id": "f2127ddc-bc49-44cf-bca7-fde9d21fe298",
   "metadata": {},
   "outputs": [
    {
     "data": {
      "text/plain": [
       "0.00011663999999999998"
      ]
     },
     "execution_count": 36,
     "metadata": {},
     "output_type": "execute_result"
    }
   ],
   "source": [
    "ini['X']"
   ]
  },
  {
   "cell_type": "code",
   "execution_count": 37,
   "id": "dde282a1-fa46-4b40-919c-bedc2445e8d0",
   "metadata": {},
   "outputs": [
    {
     "data": {
      "text/plain": [
       "7.776000000000001e-05"
      ]
     },
     "execution_count": 37,
     "metadata": {},
     "output_type": "execute_result"
    }
   ],
   "source": [
    "ini['Y']"
   ]
  },
  {
   "cell_type": "code",
   "execution_count": 38,
   "id": "016758b7-de59-475f-a87f-7e0f754a09b2",
   "metadata": {},
   "outputs": [
    {
     "data": {
      "text/plain": [
       "0.00684"
      ]
     },
     "execution_count": 38,
     "metadata": {},
     "output_type": "execute_result"
    }
   ],
   "source": [
    "ini['Z']"
   ]
  },
  {
   "cell_type": "code",
   "execution_count": 39,
   "id": "7af0f11f-174a-4fdb-ac86-83cd1bd7bcb2",
   "metadata": {},
   "outputs": [
    {
     "data": {
      "text/plain": [
       "['Z', 'Z', 'Z']"
      ]
     },
     "execution_count": 39,
     "metadata": {},
     "output_type": "execute_result"
    }
   ],
   "source": [
    "seq"
   ]
  },
  {
   "cell_type": "code",
   "execution_count": 40,
   "id": "3cc7ff55-ad00-4a86-9af6-1fb22cbb425c",
   "metadata": {},
   "outputs": [],
   "source": [
    "import pandas as pd\n",
    "import numpy as np\n",
    "import networkx as nx"
   ]
  },
  {
   "cell_type": "code",
   "execution_count": 56,
   "id": "db678ee1-5bec-4292-94ff-503aa5090f33",
   "metadata": {},
   "outputs": [],
   "source": [
    "G = nx.DiGraph()"
   ]
  },
  {
   "cell_type": "code",
   "execution_count": 57,
   "id": "18f880b6-bb10-4efb-a881-78a38faa9f9d",
   "metadata": {},
   "outputs": [],
   "source": [
    "G.add_nodes_from(d)\n",
    "G.add_nodes_from(m)"
   ]
  },
  {
   "cell_type": "code",
   "execution_count": 58,
   "id": "d4b7a2a2-0904-4264-8317-6089e77d01b7",
   "metadata": {},
   "outputs": [],
   "source": [
    "pos = {}\n",
    "pos['X'] = (0,0)\n",
    "pos['Y'] = (2,0)\n",
    "pos['Z'] = (3,2)\n",
    "pos['A'] = (2,2)\n",
    "pos['B'] = (0,2)\n",
    "pos['C'] = (2,3)"
   ]
  },
  {
   "cell_type": "code",
   "execution_count": 59,
   "id": "9cd5bfde-e0ae-42e2-8ab2-e47591610422",
   "metadata": {},
   "outputs": [],
   "source": [
    "for i in d:\n",
    "    for j in d[i]:\n",
    "        G.add_edge(i,j,weight=d[i][j],label = f\" {d[i][j]}\")\n",
    "for i in m:\n",
    "    for j in m[i]:\n",
    "        G.add_edge(i,j,weight=m[i][j],label = f\" {m[i][j]}\")      "
   ]
  },
  {
   "cell_type": "code",
   "execution_count": 61,
   "id": "f1ea1670-e2fd-4f4d-8858-87b1c2d1819f",
   "metadata": {},
   "outputs": [
    {
     "data": {
      "text/plain": [
       "{('X', 'X'): Text(0.0, 0.0, ' 0.3'),\n",
       " ('X', 'Y'): Text(1.0, 0.0, ' 0.2'),\n",
       " ('X', 'Z'): Text(1.5, 1.0, ' 0'),\n",
       " ('X', 'A'): Text(1.0, 1.0, ' 0.6'),\n",
       " ('X', 'B'): Text(0.0, 1.0, ' 0.2'),\n",
       " ('X', 'C'): Text(1.0, 1.5, ' 0.2'),\n",
       " ('Y', 'X'): Text(1.0, 0.0, ' 0'),\n",
       " ('Y', 'Y'): Text(2.0, 0.0, ' 0.2'),\n",
       " ('Y', 'Z'): Text(2.5, 1.0, ' 0.8'),\n",
       " ('Y', 'A'): Text(2.0, 1.0, ' 0.1'),\n",
       " ('Y', 'B'): Text(1.0, 1.0, ' 0.2'),\n",
       " ('Y', 'C'): Text(2.0, 1.5, ' 0.3'),\n",
       " ('Z', 'X'): Text(1.5, 1.0, ' 0'),\n",
       " ('Z', 'Y'): Text(2.5, 1.0, ' 0'),\n",
       " ('Z', 'Z'): Text(3.0, 2.0, ' 1'),\n",
       " ('Z', 'A'): Text(2.5, 2.0, ' 0.3'),\n",
       " ('Z', 'B'): Text(1.5, 2.0, ' 0.2'),\n",
       " ('Z', 'C'): Text(2.5, 2.5, ' 0.3')}"
      ]
     },
     "execution_count": 61,
     "metadata": {},
     "output_type": "execute_result"
    },
    {
     "data": {
      "image/png": "[encoded data removed]",
      "text/plain": [
       "<Figure size 640x480 with 1 Axes>"
      ]
     },
     "metadata": {},
     "output_type": "display_data"
    }
   ],
   "source": [
    "nx.draw_networkx_nodes(G,pos,nodelist=l)\n",
    "nx.draw_networkx_nodes(G,pos,nodelist=m)\n",
    "nx.draw_networkx_labels(G,pos)\n",
    "nx.draw_networkx_edges(G,pos)\n",
    "e = nx.get_edge_attributes(G,'label')\n",
    "nx.draw_networkx_edge_labels(G,pos,edge_labels=e)"
   ]
  },
  {
   "cell_type": "code",
   "execution_count": null,
   "id": "cf02b114-e035-4137-b09e-facb4b117b9e",
   "metadata": {},
   "outputs": [],
   "source": []
  }
 ],
 "metadata": {
  "kernelspec": {
   "display_name": "Python 3 (ipykernel)",
   "language": "python",
   "name": "python3"
  },
  "language_info": {
   "codemirror_mode": {
    "name": "ipython",
    "version": 3
   },
   "file_extension": ".py",
   "mimetype": "text/x-python",
   "name": "python",
   "nbconvert_exporter": "python",
   "pygments_lexer": "ipython3",
   "version": "3.12.4"
  }
 },
 "nbformat": 4,
 "nbformat_minor": 5
}
